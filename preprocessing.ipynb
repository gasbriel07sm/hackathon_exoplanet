{
 "cells": [
  {
   "cell_type": "markdown",
   "id": "e453a4b4",
   "metadata": {},
   "source": [
    "Célula 1: Instalações e Importações"
   ]
  },
  {
   "cell_type": "code",
   "execution_count": 8,
   "id": "d4c40310",
   "metadata": {},
   "outputs": [
    {
     "name": "stdout",
     "output_type": "stream",
     "text": [
      "Bibliotecas e configuração carregadas com sucesso!\n"
     ]
    }
   ],
   "source": [
    "# --- CÉLULA 1: Instalações e Importações (CORRIGIDA) ---\n",
    "\n",
    "# Descomente e execute esta linha se você não tiver as bibliotecas instaladas\n",
    "# !pip install pandas numpy scikit-learn \"imblearn\" pyyaml joblib\n",
    "\n",
    "import pandas as pd\n",
    "import numpy as np\n",
    "import yaml\n",
    "import joblib\n",
    "import os  # <--- ADICIONE ESTA LINHA\n",
    "from sklearn.preprocessing import StandardScaler, LabelEncoder\n",
    "from sklearn.impute import KNNImputer\n",
    "from sklearn.model_selection import train_test_split\n",
    "from imblearn.over_sampling import SMOTE\n",
    "from sklearn.ensemble import RandomForestClassifier\n",
    "from sklearn.metrics import accuracy_score, classification_report\n",
    "import warnings\n",
    "\n",
    "warnings.filterwarnings('ignore', category=FutureWarning)\n",
    "\n",
    "# Carregar o arquivo de configuração\n",
    "with open('config.yaml', 'r') as file:\n",
    "    config = yaml.safe_load(file)\n",
    "\n",
    "print(\"Bibliotecas e configuração carregadas com sucesso!\")"
   ]
  },
  {
   "cell_type": "markdown",
   "id": "b03d96f8",
   "metadata": {},
   "source": [
    "Célula 2: Carregar, Limpar e Unificar TODOS os Datasets"
   ]
  },
  {
   "cell_type": "code",
   "execution_count": 2,
   "id": "cb2f4be3",
   "metadata": {},
   "outputs": [
    {
     "name": "stdout",
     "output_type": "stream",
     "text": [
      "Iniciando o carregamento e limpeza de todos os datasets...\n",
      "\n",
      "--- Processando: KOI ---\n",
      "'koi' limpo e adicionado. Shape: (9564, 141)\n",
      "\n",
      "--- Processando: K2 ---\n",
      "AVISO: Coluna alvo 'pl_disposition' não encontrada em 'k2'. Pulando.\n",
      "\n",
      "--- Processando: TESS ---\n",
      "'tess' limpo e adicionado. Shape: (6921, 87)\n",
      "\n",
      "==================================================\n",
      "TODOS OS DATASETS FORAM UNIFICADOS!\n",
      "Shape final do DataFrame combinado: (16485, 224)\n",
      "\n",
      "Distribuição de classes no dataset combinado:\n",
      "disposition\n",
      "Candidate         7120\n",
      "False Positive    6036\n",
      "Confirmed         3329\n",
      "Name: count, dtype: int64\n"
     ]
    }
   ],
   "source": [
    "# --- CÉLULA 2: Carregar, Limpar e Unificar TODOS os Datasets ---\n",
    "\n",
    "all_cleaned_dfs = []\n",
    "datasets_to_process = ['koi', 'k2', 'tess']\n",
    "\n",
    "print(\"Iniciando o carregamento e limpeza de todos os datasets...\")\n",
    "\n",
    "for name in datasets_to_process:\n",
    "    print(f\"\\n--- Processando: {name.upper()} ---\")\n",
    "    \n",
    "    file_path = config['datasets'][name]['file_path']\n",
    "    try:\n",
    "        df = pd.read_csv(file_path, comment='#')\n",
    "    except FileNotFoundError:\n",
    "        print(f\"AVISO: Arquivo para '{name}' não encontrado em '{file_path}'. Pulando.\")\n",
    "        continue\n",
    "    \n",
    "    dataset_config = config['datasets'][name]\n",
    "    target_column = dataset_config['target_column']\n",
    "    mapping = dataset_config['disposition_mapping']\n",
    "    \n",
    "    df.columns = df.columns.str.lower().str.replace('[. ]', '_', regex=True)\n",
    "    target_col_std = target_column.lower().replace(' ', '_').replace('.', '_')\n",
    "    \n",
    "    if target_col_std in df.columns:\n",
    "        df = df.rename(columns={target_col_std: 'disposition'})\n",
    "        df['disposition'] = df['disposition'].fillna('Unknown').map(mapping).fillna('Unknown')\n",
    "        valid_dispositions = ['Confirmed', 'Candidate', 'False Positive']\n",
    "        df = df[df['disposition'].isin(valid_dispositions)]\n",
    "        \n",
    "        all_cleaned_dfs.append(df)\n",
    "        print(f\"'{name}' limpo e adicionado. Shape: {df.shape}\")\n",
    "    else:\n",
    "        print(f\"AVISO: Coluna alvo '{target_col_std}' não encontrada em '{name}'. Pulando.\")\n",
    "\n",
    "# Unificar todos os DataFrames limpos em um só\n",
    "combined_df = pd.concat(all_cleaned_dfs, ignore_index=True)\n",
    "\n",
    "print(\"\\n\" + \"=\"*50)\n",
    "print(\"TODOS OS DATASETS FORAM UNIFICADOS!\")\n",
    "print(f\"Shape final do DataFrame combinado: {combined_df.shape}\")\n",
    "print(\"\\nDistribuição de classes no dataset combinado:\")\n",
    "print(combined_df['disposition'].value_counts())"
   ]
  },
  {
   "cell_type": "markdown",
   "id": "2d7096a2",
   "metadata": {},
   "source": [
    "Célula 3: Preparação das Features (X) e do Alvo (y)"
   ]
  },
  {
   "cell_type": "code",
   "execution_count": 3,
   "id": "7b240c2c",
   "metadata": {},
   "outputs": [
    {
     "name": "stdout",
     "output_type": "stream",
     "text": [
      "Separação em Features (X) e Alvo (y) concluída.\n",
      "Shape de X (features): (16485, 200)\n",
      "Shape de y (alvo): (16485,)\n"
     ]
    }
   ],
   "source": [
    "# --- CÉLULA 3: Preparação das Features (X) e do Alvo (y) ---\n",
    "\n",
    "y = combined_df['disposition']\n",
    "df_for_features = combined_df.drop(columns=['disposition'])\n",
    "X = df_for_features.select_dtypes(include=np.number)\n",
    "\n",
    "id_cols_to_drop = ['kepid', 'kepoi_name', 'kepler_name', 'rowid', 'tic_id', 'toi']\n",
    "cols_to_drop_found = [col for col in id_cols_to_drop if col in X.columns]\n",
    "if cols_to_drop_found:\n",
    "    X = X.drop(columns=cols_to_drop_found)\n",
    "\n",
    "print(\"Separação em Features (X) e Alvo (y) concluída.\")\n",
    "print(f\"Shape de X (features): {X.shape}\")\n",
    "print(f\"Shape de y (alvo): {y.shape}\")"
   ]
  },
  {
   "cell_type": "markdown",
   "id": "d443c6ec",
   "metadata": {},
   "source": [
    "Célula 4: Divisão em Dados de Treino e Teste"
   ]
  },
  {
   "cell_type": "code",
   "execution_count": 4,
   "id": "9ed6c0e7",
   "metadata": {},
   "outputs": [
    {
     "name": "stdout",
     "output_type": "stream",
     "text": [
      "Divisão em treino e teste concluída.\n",
      "Shape de X_train: (13188, 200) | Shape de y_train: (13188,)\n",
      "Shape de X_test: (3297, 200)   | Shape de y_test: (3297,)\n"
     ]
    }
   ],
   "source": [
    "# --- CÉLULA 4: Divisão em Treino e Teste ---\n",
    "\n",
    "test_size = config['preprocessing']['test_size']\n",
    "random_state = config['preprocessing']['random_state']\n",
    "\n",
    "X_train, X_test, y_train, y_test = train_test_split(\n",
    "    X, y, \n",
    "    test_size=test_size, \n",
    "    random_state=random_state, \n",
    "    stratify=y\n",
    ")\n",
    "\n",
    "print(\"Divisão em treino e teste concluída.\")\n",
    "print(f\"Shape de X_train: {X_train.shape} | Shape de y_train: {y_train.shape}\")\n",
    "print(f\"Shape de X_test: {X_test.shape}   | Shape de y_test: {y_test.shape}\")"
   ]
  },
  {
   "cell_type": "markdown",
   "id": "81c74b9a",
   "metadata": {},
   "source": [
    "Célula 5: Pipeline de Transformação e Balanceamento"
   ]
  },
  {
   "cell_type": "code",
   "execution_count": 5,
   "id": "e688ec92",
   "metadata": {},
   "outputs": [
    {
     "name": "stdout",
     "output_type": "stream",
     "text": [
      "--- PROCESSANDO DADOS DE TREINO ---\n",
      "Dados de treino processados!\n",
      "\n",
      "--- PROCESSANDO DADOS DE TESTE ---\n",
      "Dados de teste processados!\n",
      "\n",
      "==================================================\n",
      "Verificação Final do Processamento:\n",
      "Shape final do X de treino: (17088, 169)\n",
      "Shape final do X de teste:  (3297, 169)\n",
      "Classes aprendidas: ['Candidate' 'Confirmed' 'False Positive'] -> [0 1 2]\n"
     ]
    }
   ],
   "source": [
    "# --- CÉLULA 5: Pipeline de Transformação e Balanceamento ---\n",
    "\n",
    "imputer = KNNImputer(n_neighbors=config['preprocessing']['knn_neighbors'])\n",
    "scaler = StandardScaler()\n",
    "label_encoder = LabelEncoder()\n",
    "smote = SMOTE(random_state=config['app']['random_state'])\n",
    "\n",
    "print(\"--- PROCESSANDO DADOS DE TREINO ---\")\n",
    "X_train_imputed = imputer.fit_transform(X_train)\n",
    "X_train_balanced, y_train_balanced = smote.fit_resample(X_train_imputed, y_train)\n",
    "X_train_processed = scaler.fit_transform(X_train_balanced)\n",
    "y_train_processed = label_encoder.fit_transform(y_train_balanced)\n",
    "print(\"Dados de treino processados!\")\n",
    "\n",
    "print(\"\\n--- PROCESSANDO DADOS DE TESTE ---\")\n",
    "X_test_imputed = imputer.transform(X_test)\n",
    "X_test_processed = scaler.transform(X_test_imputed)\n",
    "y_test_processed = label_encoder.transform(y_test)\n",
    "print(\"Dados de teste processados!\")\n",
    "\n",
    "print(\"\\n\" + \"=\"*50)\n",
    "print(\"Verificação Final do Processamento:\")\n",
    "print(f\"Shape final do X de treino: {X_train_processed.shape}\")\n",
    "print(f\"Shape final do X de teste:  {X_test_processed.shape}\")\n",
    "print(f\"Classes aprendidas: {label_encoder.classes_} -> {np.unique(y_train_processed)}\")"
   ]
  },
  {
   "cell_type": "markdown",
   "id": "acf44cdc",
   "metadata": {},
   "source": [
    "Célula 6: Treinamento e Avaliação do \"Super-Modelo\""
   ]
  },
  {
   "cell_type": "code",
   "execution_count": 6,
   "id": "21545166",
   "metadata": {},
   "outputs": [
    {
     "name": "stdout",
     "output_type": "stream",
     "text": [
      "Iniciando o treinamento do modelo RandomForest com todos os dados...\n",
      "Treinamento concluído!\n",
      "\n",
      "Fazendo previsões no conjunto de teste...\n",
      "\n",
      "Acurácia do Super-Modelo: 86.99%\n",
      "\n",
      "Relatório de Classificação Detalhado:\n",
      "                precision    recall  f1-score   support\n",
      "\n",
      "     Candidate       0.82      0.91      0.86      1424\n",
      "     Confirmed       0.88      0.82      0.85       666\n",
      "False Positive       0.94      0.85      0.89      1207\n",
      "\n",
      "      accuracy                           0.87      3297\n",
      "     macro avg       0.88      0.86      0.87      3297\n",
      "  weighted avg       0.88      0.87      0.87      3297\n",
      "\n"
     ]
    }
   ],
   "source": [
    "# --- CÉLULA 6: Treinamento e Avaliação do \"Super-Modelo\" ---\n",
    "\n",
    "# Usaremos RandomForest, um modelo robusto e popular\n",
    "model = RandomForestClassifier(n_estimators=100, random_state=config['app']['random_state'], n_jobs=-1)\n",
    "\n",
    "print(\"Iniciando o treinamento do modelo RandomForest com todos os dados...\")\n",
    "model.fit(X_train_processed, y_train_processed)\n",
    "print(\"Treinamento concluído!\")\n",
    "\n",
    "print(\"\\nFazendo previsões no conjunto de teste...\")\n",
    "y_pred = model.predict(X_test_processed)\n",
    "\n",
    "print(f\"\\nAcurácia do Super-Modelo: {accuracy_score(y_test_processed, y_pred):.2%}\")\n",
    "print(\"\\nRelatório de Classificação Detalhado:\")\n",
    "print(classification_report(y_test_processed, y_pred, target_names=label_encoder.classes_))"
   ]
  },
  {
   "cell_type": "markdown",
   "id": "a2c07e2f",
   "metadata": {},
   "source": [
    "Célula 7: Salvar o Modelo e os Transformadores (\"Artefatos\")"
   ]
  },
  {
   "cell_type": "code",
   "execution_count": 9,
   "id": "99c82a8e",
   "metadata": {},
   "outputs": [
    {
     "name": "stdout",
     "output_type": "stream",
     "text": [
      "Super-modelo, transformadores e lista de colunas foram salvos com sucesso na pasta 'artifacts/'!\n"
     ]
    }
   ],
   "source": [
    "# --- CÉLULA 7: Salvar o Modelo e os Transformadores ---\n",
    "\n",
    "# Cria uma pasta para salvar os artefatos, se não existir\n",
    "os.makedirs('artifacts', exist_ok=True)\n",
    "\n",
    "joblib.dump(model, 'artifacts/exoplanet_super_model.pkl')\n",
    "joblib.dump(scaler, 'artifacts/super_scaler.pkl')\n",
    "joblib.dump(label_encoder, 'artifacts/super_label_encoder.pkl')\n",
    "joblib.dump(imputer, 'artifacts/super_imputer.pkl')\n",
    "joblib.dump(list(X.columns), 'artifacts/X_columns.pkl')\n",
    "\n",
    "print(\"Super-modelo, transformadores e lista de colunas foram salvos com sucesso na pasta 'artifacts/'!\")"
   ]
  }
 ],
 "metadata": {
  "kernelspec": {
   "display_name": "Python 3",
   "language": "python",
   "name": "python3"
  },
  "language_info": {
   "codemirror_mode": {
    "name": "ipython",
    "version": 3
   },
   "file_extension": ".py",
   "mimetype": "text/x-python",
   "name": "python",
   "nbconvert_exporter": "python",
   "pygments_lexer": "ipython3",
   "version": "3.13.5"
  }
 },
 "nbformat": 4,
 "nbformat_minor": 5
}
